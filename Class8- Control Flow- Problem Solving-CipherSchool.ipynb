{
 "cells": [
  {
   "cell_type": "code",
   "execution_count": 1,
   "id": "f9bb016b",
   "metadata": {},
   "outputs": [],
   "source": [
    "n = 5"
   ]
  },
  {
   "cell_type": "code",
   "execution_count": 2,
   "id": "2462ec3e",
   "metadata": {},
   "outputs": [
    {
     "name": "stdout",
     "output_type": "stream",
     "text": [
      "0 \n",
      "0 \n",
      "0 \n",
      "0 \n",
      "0 \n",
      "1 \n",
      "1 \n",
      "1 \n",
      "1 \n",
      "1 \n",
      "2 \n",
      "2 \n",
      "2 \n",
      "2 \n",
      "2 \n",
      "3 \n",
      "3 \n",
      "3 \n",
      "3 \n",
      "3 \n",
      "4 \n",
      "4 \n",
      "4 \n",
      "4 \n",
      "4 \n"
     ]
    }
   ],
   "source": [
    "for i in range(n):\n",
    "    for j in range(n):\n",
    "        print(i,end=\" \")\n",
    "        print()"
   ]
  },
  {
   "cell_type": "code",
   "execution_count": 4,
   "id": "c9817f4b",
   "metadata": {},
   "outputs": [
    {
     "name": "stdout",
     "output_type": "stream",
     "text": [
      "0 \n",
      "1 \n",
      "2 \n",
      "3 \n",
      "4 \n",
      "0 \n",
      "1 \n",
      "2 \n",
      "3 \n",
      "4 \n",
      "0 \n",
      "1 \n",
      "2 \n",
      "3 \n",
      "4 \n",
      "0 \n",
      "1 \n",
      "2 \n",
      "3 \n",
      "4 \n",
      "0 \n",
      "1 \n",
      "2 \n",
      "3 \n",
      "4 \n"
     ]
    }
   ],
   "source": [
    "for i in range(n):\n",
    "    for j in range(n):\n",
    "        print(j,end=\" \")\n",
    "        print()"
   ]
  },
  {
   "cell_type": "code",
   "execution_count": 6,
   "id": "66f7395a",
   "metadata": {},
   "outputs": [
    {
     "name": "stdout",
     "output_type": "stream",
     "text": [
      "5 \n",
      "4 \n",
      "3 \n",
      "2 \n",
      "1 \n",
      "5 \n",
      "4 \n",
      "3 \n",
      "2 \n",
      "1 \n",
      "5 \n",
      "4 \n",
      "3 \n",
      "2 \n",
      "1 \n",
      "5 \n",
      "4 \n",
      "3 \n",
      "2 \n",
      "1 \n",
      "5 \n",
      "4 \n",
      "3 \n",
      "2 \n",
      "1 \n"
     ]
    }
   ],
   "source": [
    "for i in range(n):\n",
    "    for j in range(n):\n",
    "        print(n-j,end = \" \")\n",
    "        print()"
   ]
  },
  {
   "cell_type": "code",
   "execution_count": 2,
   "id": "2cff891c",
   "metadata": {},
   "outputs": [
    {
     "name": "stdout",
     "output_type": "stream",
     "text": [
      "6 \n",
      "6 \n",
      "6 \n",
      "6 \n",
      "6 \n",
      "6 \n",
      "6 \n",
      "6 \n",
      "6 \n",
      "6 \n",
      "6 \n",
      "6 \n",
      "6 \n",
      "6 \n",
      "6 \n",
      "6 \n",
      "6 \n",
      "6 \n",
      "6 \n",
      "6 \n",
      "6 \n",
      "6 \n",
      "6 \n",
      "6 \n",
      "6 \n"
     ]
    }
   ],
   "source": [
    "\n",
    "for i in range(n):\n",
    "    for j in range(n):\n",
    "        print(n+1,end =\" \")\n",
    "        print()"
   ]
  },
  {
   "cell_type": "code",
   "execution_count": 3,
   "id": "d6d171ba",
   "metadata": {},
   "outputs": [
    {
     "name": "stdout",
     "output_type": "stream",
     "text": [
      "5 \n",
      "6 \n",
      "7 \n",
      "8 \n",
      "9 \n",
      "5 \n",
      "6 \n",
      "7 \n",
      "8 \n",
      "9 \n",
      "5 \n",
      "6 \n",
      "7 \n",
      "8 \n",
      "9 \n",
      "5 \n",
      "6 \n",
      "7 \n",
      "8 \n",
      "9 \n",
      "5 \n",
      "6 \n",
      "7 \n",
      "8 \n",
      "9 \n"
     ]
    }
   ],
   "source": [
    "for i in range(n):\n",
    "    for j in range(n):\n",
    "        print(n+j,end = \" \")\n",
    "        print()"
   ]
  },
  {
   "cell_type": "code",
   "execution_count": 4,
   "id": "5da24d10",
   "metadata": {},
   "outputs": [
    {
     "name": "stdout",
     "output_type": "stream",
     "text": [
      "4 \n",
      "4 \n",
      "4 \n",
      "4 \n",
      "4 \n",
      "4 \n",
      "4 \n",
      "4 \n",
      "4 \n",
      "4 \n",
      "4 \n",
      "4 \n",
      "4 \n",
      "4 \n",
      "4 \n",
      "4 \n",
      "4 \n",
      "4 \n",
      "4 \n",
      "4 \n",
      "4 \n",
      "4 \n",
      "4 \n",
      "4 \n",
      "4 \n"
     ]
    }
   ],
   "source": [
    "for i in range(n):\n",
    "    for j in range(n):\n",
    "        print(n-1,end = \" \")\n",
    "        print()"
   ]
  },
  {
   "cell_type": "code",
   "execution_count": 5,
   "id": "f2094003",
   "metadata": {},
   "outputs": [
    {
     "name": "stdout",
     "output_type": "stream",
     "text": [
      "-4 \n",
      "-4 \n",
      "-4 \n",
      "-4 \n",
      "-4 \n",
      "-4 \n",
      "-4 \n",
      "-4 \n",
      "-4 \n",
      "-4 \n",
      "-4 \n",
      "-4 \n",
      "-4 \n",
      "-4 \n",
      "-4 \n",
      "-4 \n",
      "-4 \n",
      "-4 \n",
      "-4 \n",
      "-4 \n",
      "-4 \n",
      "-4 \n",
      "-4 \n",
      "-4 \n",
      "-4 \n"
     ]
    }
   ],
   "source": [
    "for i in range(n):\n",
    "    for j in range(n):\n",
    "        print(1-n,end = \" \")\n",
    "        print()"
   ]
  },
  {
   "cell_type": "code",
   "execution_count": 2,
   "id": "dc76b6ac",
   "metadata": {},
   "outputs": [],
   "source": [
    "n = 5"
   ]
  },
  {
   "cell_type": "code",
   "execution_count": 3,
   "id": "52d09cfe",
   "metadata": {},
   "outputs": [
    {
     "data": {
      "text/plain": [
       "5"
      ]
     },
     "execution_count": 3,
     "metadata": {},
     "output_type": "execute_result"
    }
   ],
   "source": [
    "n"
   ]
  },
  {
   "cell_type": "code",
   "execution_count": 4,
   "id": "21c4b7ef",
   "metadata": {},
   "outputs": [
    {
     "data": {
      "text/plain": [
       "5"
      ]
     },
     "execution_count": 4,
     "metadata": {},
     "output_type": "execute_result"
    }
   ],
   "source": [
    "max(1, 2, 3, 4, 5)"
   ]
  },
  {
   "cell_type": "code",
   "execution_count": 6,
   "id": "050f4863",
   "metadata": {},
   "outputs": [
    {
     "name": "stdout",
     "output_type": "stream",
     "text": [
      "5 \n",
      "5 \n",
      "5 \n",
      "5 \n",
      "5 \n",
      "5 \n",
      "4 \n",
      "4 \n",
      "4 \n",
      "5 \n",
      "5 \n",
      "4 \n",
      "3 \n",
      "4 \n",
      "5 \n",
      "5 \n",
      "4 \n",
      "4 \n",
      "4 \n",
      "5 \n",
      "5 \n",
      "5 \n",
      "5 \n",
      "5 \n",
      "5 \n"
     ]
    }
   ],
   "source": [
    "n = 5\n",
    "for i in range(n):\n",
    "    for j in range(n):\n",
    "        print(max(i+1, j+1, n-i, n-j), end = \" \")\n",
    "        print()\n",
    "        "
   ]
  },
  {
   "cell_type": "code",
   "execution_count": 8,
   "id": "c71e3327",
   "metadata": {
    "scrolled": true
   },
   "outputs": [
    {
     "name": "stdout",
     "output_type": "stream",
     "text": [
      "5 \n",
      "5 \n",
      "5 \n",
      "5 \n",
      "5 \n",
      "5 \n",
      "4 \n",
      "4 \n",
      "4 \n",
      "5 \n",
      "5 \n",
      "4 \n",
      "3 \n",
      "4 \n",
      "5 \n",
      "5 \n",
      "4 \n",
      "4 \n",
      "4 \n",
      "5 \n",
      "5 \n",
      "5 \n",
      "5 \n",
      "5 \n",
      "5 \n"
     ]
    }
   ],
   "source": [
    "n = 5\n",
    "for i in range(n):\n",
    "    for j in range(n):\n",
    "        print(\n",
    "            max(max(i+1, 1+j), max(n-i, n-j)\n",
    "               ),end = \" \")\n",
    "        print()\n",
    "        "
   ]
  },
  {
   "cell_type": "code",
   "execution_count": 9,
   "id": "e990d326",
   "metadata": {},
   "outputs": [
    {
     "data": {
      "text/plain": [
       "98"
      ]
     },
     "execution_count": 9,
     "metadata": {},
     "output_type": "execute_result"
    }
   ],
   "source": [
    "sum([1, 2, 4, 5, 6, 7, 8, 9, 56,])"
   ]
  },
  {
   "cell_type": "code",
   "execution_count": null,
   "id": "8609fb5b",
   "metadata": {},
   "outputs": [],
   "source": []
  }
 ],
 "metadata": {
  "kernelspec": {
   "display_name": "Python 3",
   "language": "python",
   "name": "python3"
  },
  "language_info": {
   "codemirror_mode": {
    "name": "ipython",
    "version": 3
   },
   "file_extension": ".py",
   "mimetype": "text/x-python",
   "name": "python",
   "nbconvert_exporter": "python",
   "pygments_lexer": "ipython3",
   "version": "3.8.8"
  }
 },
 "nbformat": 4,
 "nbformat_minor": 5
}
